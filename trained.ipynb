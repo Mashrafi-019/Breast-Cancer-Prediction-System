{
 "cells": [
  {
   "cell_type": "code",
   "execution_count": 92,
   "id": "c3b02a82",
   "metadata": {},
   "outputs": [],
   "source": [
    "import pandas as pd\n",
    "import os"
   ]
  },
  {
   "cell_type": "code",
   "execution_count": 93,
   "id": "e27a59a2",
   "metadata": {},
   "outputs": [
    {
     "name": "stderr",
     "output_type": "stream",
     "text": [
      "<>:1: SyntaxWarning: invalid escape sequence '\\M'\n",
      "<>:1: SyntaxWarning: invalid escape sequence '\\M'\n",
      "C:\\Users\\eron2\\AppData\\Local\\Temp\\ipykernel_18876\\2588803651.py:1: SyntaxWarning: invalid escape sequence '\\M'\n",
      "  ROOT_DIR = \"D:\\ML_Projects\\cancer_prediction\"\n"
     ]
    }
   ],
   "source": [
    "ROOT_DIR = \"D:\\ML_Projects\\cancer_prediction\"\n",
    "DATA_DIR = os.path.join(ROOT_DIR, \"data\")\n",
    "SAVED_MODEL_DIR = os.path.join(ROOT_DIR, \"models\")\n",
    "dataset_path = os.path.join(DATA_DIR,'breast-cancer_02.csv')\n",
    "\n",
    "cancer_df = pd.read_csv(dataset_path)\n"
   ]
  },
  {
   "cell_type": "code",
   "execution_count": 94,
   "id": "765f4bd8",
   "metadata": {},
   "outputs": [
    {
     "data": {
      "application/vnd.microsoft.datawrangler.viewer.v0+json": {
       "columns": [
        {
         "name": "diagnosis",
         "rawType": "int64",
         "type": "integer"
        },
        {
         "name": "count",
         "rawType": "int64",
         "type": "integer"
        }
       ],
       "ref": "4a015717-5007-4436-bc55-2b2a08d8214c",
       "rows": [
        [
         "0",
         "357"
        ],
        [
         "1",
         "212"
        ]
       ],
       "shape": {
        "columns": 1,
        "rows": 2
       }
      },
      "text/plain": [
       "diagnosis\n",
       "0    357\n",
       "1    212\n",
       "Name: count, dtype: int64"
      ]
     },
     "execution_count": 94,
     "metadata": {},
     "output_type": "execute_result"
    }
   ],
   "source": [
    "X = cancer_df[['perimeter_mean','area_mean', 'concavity_mean','compactness_mean','concave points_mean', 'radius_worst', 'area_worst', 'perimeter_worst','concavity_worst', 'concave points_worst']]\n",
    "y_reg = cancer_df['radius_mean']\n",
    "y_clf = cancer_df['diagnosis']\n",
    "\n",
    "y_clf.value_counts()"
   ]
  },
  {
   "cell_type": "code",
   "execution_count": 95,
   "id": "9e8a1e55",
   "metadata": {},
   "outputs": [
    {
     "data": {
      "text/plain": [
       "array([[ 1.26993369,  0.9843749 ,  2.65287398,  3.28351467,  2.53247522,\n",
       "         1.88668963,  2.00123749,  2.30360062,  2.10952635,  2.29607613],\n",
       "       [ 1.68595471,  1.90870825, -0.02384586, -0.48707167,  0.54814416,\n",
       "         1.80592744,  1.89048899,  1.53512599, -0.14674897,  1.0870843 ],\n",
       "       [ 1.56650313,  1.55888363,  1.36347845,  1.05292554,  2.03723076,\n",
       "         1.51187025,  1.45628455,  1.34747521,  0.85497394,  1.95500035],\n",
       "       [-0.59268717, -0.76446379,  1.91589718,  3.40290899,  1.45170736,\n",
       "        -0.28146446, -0.55002123, -0.2499393 ,  1.98958826,  2.17578601],\n",
       "       [ 1.77657315,  1.82622928,  1.37101143,  0.53934045,  1.42849277,\n",
       "         1.29857524,  1.22072425,  1.33853946,  0.61317876,  0.72925926]])"
      ]
     },
     "execution_count": 95,
     "metadata": {},
     "output_type": "execute_result"
    }
   ],
   "source": [
    "from sklearn.preprocessing import StandardScaler\n",
    "scaler = StandardScaler()\n",
    "X_scaled=scaler.fit_transform(X)\n",
    "X_scaled[:5]"
   ]
  },
  {
   "cell_type": "code",
   "execution_count": 96,
   "id": "14299ada",
   "metadata": {},
   "outputs": [
    {
     "data": {
      "text/plain": [
       "['D:\\\\ML_Projects\\\\cancer_prediction\\\\models\\\\scaler.pkl']"
      ]
     },
     "execution_count": 96,
     "metadata": {},
     "output_type": "execute_result"
    }
   ],
   "source": [
    "import joblib\n",
    "joblib.dump(scaler,os.path.join(SAVED_MODEL_DIR,'scaler.pkl'))"
   ]
  },
  {
   "cell_type": "code",
   "execution_count": 97,
   "id": "0bd3a906",
   "metadata": {},
   "outputs": [],
   "source": [
    "from sklearn.model_selection import train_test_split\n",
    "\n",
    "X_train,X_test,y_train_reg,y_test_reg = train_test_split(X_scaled,y_reg,test_size=0.2,random_state=42)"
   ]
  },
  {
   "cell_type": "code",
   "execution_count": 98,
   "id": "ed58dff8",
   "metadata": {},
   "outputs": [
    {
     "data": {
      "text/plain": [
       "['D:\\\\ML_Projects\\\\cancer_prediction\\\\models\\\\linear_model.pkl']"
      ]
     },
     "execution_count": 98,
     "metadata": {},
     "output_type": "execute_result"
    }
   ],
   "source": [
    "from sklearn.linear_model import LinearRegression\n",
    "\n",
    "linear_model = LinearRegression()\n",
    "linear_model.fit(X_train,y_train_reg)\n",
    "joblib.dump(linear_model,os.path.join(SAVED_MODEL_DIR,'linear_model.pkl'))"
   ]
  },
  {
   "cell_type": "code",
   "execution_count": 99,
   "id": "9bf03f9e",
   "metadata": {},
   "outputs": [
    {
     "data": {
      "text/plain": [
       "['D:\\\\ML_Projects\\\\cancer_prediction\\\\models\\\\raf_regressor.pkl']"
      ]
     },
     "execution_count": 99,
     "metadata": {},
     "output_type": "execute_result"
    }
   ],
   "source": [
    "from sklearn.ensemble import RandomForestRegressor\n",
    "\n",
    "raf_regressor = RandomForestRegressor(n_estimators=100,random_state=42)\n",
    "raf_regressor.fit(X_train,y_train_reg)\n",
    "joblib.dump(raf_regressor,os.path.join(SAVED_MODEL_DIR,'raf_regressor.pkl'))"
   ]
  },
  {
   "cell_type": "code",
   "execution_count": 100,
   "id": "56cc7c66",
   "metadata": {},
   "outputs": [],
   "source": [
    "reg_models = {'linear_model':linear_model,'regressor':raf_regressor}\n"
   ]
  },
  {
   "cell_type": "code",
   "execution_count": 101,
   "id": "e8159e31",
   "metadata": {},
   "outputs": [
    {
     "name": "stdout",
     "output_type": "stream",
     "text": [
      "linear_model - MSE: 0.01\n",
      "regressor - MSE: 0.02\n"
     ]
    }
   ],
   "source": [
    "from sklearn.metrics import mean_squared_error\n",
    "for name, model in reg_models.items():\n",
    "    y_pred = model.predict(X_test)\n",
    "    mse = mean_squared_error(y_test_reg, y_pred)\n",
    "    print(f\"{name} - MSE: {mse:.2f}\")"
   ]
  },
  {
   "cell_type": "code",
   "execution_count": null,
   "id": "f853a5c2",
   "metadata": {},
   "outputs": [
    {
     "data": {
      "text/plain": [
       "array([[ 1.26993369,  0.9843749 ,  2.65287398, ...,  2.10952635,\n",
       "         2.29607613,  1.07537593],\n",
       "       [ 1.68595471,  1.90870825, -0.02384586, ..., -0.14674897,\n",
       "         1.0870843 ,  1.82532604],\n",
       "       [ 1.56650313,  1.55888363,  1.36347845, ...,  0.85497394,\n",
       "         1.95500035,  1.58252826],\n",
       "       ...,\n",
       "       [ 0.67267578,  0.57795264,  0.04658753, ...,  0.3267666 ,\n",
       "         0.41406869,  0.70582933],\n",
       "       [ 1.98252415,  1.73521799,  3.296944  , ...,  3.19760468,\n",
       "         2.28998549,  1.84691135],\n",
       "       [-1.81438851, -1.34778924, -1.11487284, ..., -1.30583065,\n",
       "        -1.74506282, -1.77766532]], shape=(569, 11))"
      ]
     },
     "execution_count": 102,
     "metadata": {},
     "output_type": "execute_result"
    }
   ],
   "source": [
    "X_with_radius = X.copy()\n",
    "# X_with_radius['pred_with_radius'] = linear_model.predict(X_scaled)\n",
    "# X_with_radius['pred_with_radius_02'] = raf_regressor.predict(X_scaled)\n",
    "X_with_radius['pred_radius'] = (linear_model.predict(X_scaled) + raf_regressor.predict(X_scaled))/2\n",
    "\n",
    "scaler_clf = StandardScaler()\n",
    "X_clf_scaled = scaler_clf.fit_transform(X_with_radius)\n",
    "joblib.dump(scaler_clf, os.path.join(SAVED_MODEL_DIR,'scaler_clf.pkl'))\n",
    "\n",
    "from sklearn.model_selection import train_test_split\n",
    "from imblearn.over_sampling import SMOTE\n",
    "\n",
    "X_train,X_test,y_train_clf,y_test_clf = train_test_split(X_clf_scaled,y_clf,test_size=0.2,random_state=42)\n",
    "\n",
    "smote = SMOTE(random_state=42)\n",
    "X_resample,y_resample = smote.fit_resample(X_train,y_train_clf)\n",
    "\n",
    "(pd.Series(y_resample).value_counts())\n",
    "(pd.Series(y_train_clf).value_counts())\n",
    "\n"
   ]
  },
  {
   "cell_type": "code",
   "execution_count": 103,
   "id": "550f87aa",
   "metadata": {},
   "outputs": [
    {
     "data": {
      "text/plain": [
       "['D:\\\\ML_Projects\\\\cancer_prediction\\\\models\\\\logic_clf.pkl']"
      ]
     },
     "execution_count": 103,
     "metadata": {},
     "output_type": "execute_result"
    }
   ],
   "source": [
    "from sklearn.linear_model import LogisticRegression\n",
    "\n",
    "logic_clf = LogisticRegression(random_state=42)\n",
    "logic_clf.fit(X_resample,y_resample)\n",
    "joblib.dump(logic_clf,os.path.join(SAVED_MODEL_DIR,'logic_clf.pkl'))"
   ]
  },
  {
   "cell_type": "code",
   "execution_count": 104,
   "id": "7d40ba4d",
   "metadata": {},
   "outputs": [
    {
     "name": "stdout",
     "output_type": "stream",
     "text": [
      "0.9824561403508771\n",
      "              precision    recall  f1-score   support\n",
      "\n",
      "           0       1.00      0.97      0.99        71\n",
      "           1       0.96      1.00      0.98        43\n",
      "\n",
      "    accuracy                           0.98       114\n",
      "   macro avg       0.98      0.99      0.98       114\n",
      "weighted avg       0.98      0.98      0.98       114\n",
      "\n"
     ]
    }
   ],
   "source": [
    "from sklearn.metrics import accuracy_score,classification_report\n",
    "y_pred = logic_clf.predict(X_test)\n",
    "acc = accuracy_score(y_test_clf,y_pred)\n",
    "report=classification_report(y_test_clf,y_pred)\n",
    "print(acc)\n",
    "print(report)"
   ]
  }
 ],
 "metadata": {
  "kernelspec": {
   "display_name": "Python 3",
   "language": "python",
   "name": "python3"
  },
  "language_info": {
   "codemirror_mode": {
    "name": "ipython",
    "version": 3
   },
   "file_extension": ".py",
   "mimetype": "text/x-python",
   "name": "python",
   "nbconvert_exporter": "python",
   "pygments_lexer": "ipython3",
   "version": "3.13.2"
  }
 },
 "nbformat": 4,
 "nbformat_minor": 5
}
